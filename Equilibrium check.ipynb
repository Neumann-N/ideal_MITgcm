{
 "cells": [
  {
   "cell_type": "code",
   "execution_count": null,
   "id": "7d238381",
   "metadata": {},
   "outputs": [],
   "source": [
    "# Create plots to check if the model is at equilibrium"
   ]
  },
  {
   "cell_type": "code",
   "execution_count": 1,
   "id": "078c074b",
   "metadata": {},
   "outputs": [],
   "source": [
    "import xmitgcm\n",
    "from xmitgcm import open_mdsdataset\n",
    "import numpy as np\n",
    "import matplotlib.pyplot as plt\n",
    "import matplotlib\n",
    "import xarray as xr\n",
    "from xgcm import Grid\n",
    "import numba"
   ]
  },
  {
   "cell_type": "code",
   "execution_count": 2,
   "id": "5070e625",
   "metadata": {},
   "outputs": [],
   "source": [
    "# function to load in the data\n",
    "# data_dir is location of data\n",
    "# prefix is type of data to load in (dyn, layersDiags)\n",
    "def getoutput(data_dir,prefix):\n",
    "    deltaTClock = 21600.\n",
    "    grid_dir = './K50grid/'\n",
    "    data = open_mdsdataset(data_dir,grid_dir,delta_t=deltaTClock,prefix=prefix,geometry='sphericalpolar',default_dtype=np.dtype)\n",
    "    return data"
   ]
  },
  {
   "cell_type": "code",
   "execution_count": 3,
   "id": "9f5da87c",
   "metadata": {},
   "outputs": [],
   "source": [
    "dyn50=getoutput('./K50/','dyn')\n",
    "dyn500=getoutput('./K500/','dyn')\n",
    "dyn5000=getoutput('./K5000/','dyn')"
   ]
  },
  {
   "cell_type": "code",
   "execution_count": 5,
   "id": "8f6d2078",
   "metadata": {},
   "outputs": [],
   "source": [
    "def equilibrium(dyn):\n",
    "    weight=dyn['drF']\n",
    "    weightx=dyn['dxF']\n",
    "    weighty=dyn['dyF']\n",
    "    timer = (((dyn.weighted(weighty*weightx)).mean('YC')).mean('XC')).weighted(weight).mean('Z')\n",
    "    \n",
    "    return timer"
   ]
  },
  {
   "cell_type": "code",
   "execution_count": 7,
   "id": "9713fecc",
   "metadata": {},
   "outputs": [],
   "source": [
    "timer50=equilibrium(dyn50)\n",
    "#timer500=equilibrium(dyn500)\n",
    "#timer5000=equilibrium(dyn5000)"
   ]
  },
  {
   "cell_type": "code",
   "execution_count": 8,
   "id": "ff068d5f",
   "metadata": {},
   "outputs": [
    {
     "data": {
      "text/plain": [
       "Text(0.5, 1.0, 'K = 50')"
      ]
     },
     "execution_count": 8,
     "metadata": {},
     "output_type": "execute_result"
    },
    {
     "data": {
      "image/png": "[encoded data removed]",
      "text/plain": [
       "<Figure size 432x288 with 1 Axes>"
      ]
     },
     "metadata": {
      "needs_background": "light"
     },
     "output_type": "display_data"
    }
   ],
   "source": [
    "timer50.plot.scatter(x='iter',y='THETA')\n",
    "plt.title('K = 50')\n",
    "#plt.savefig('TEMP_time_K50.png')"
   ]
  },
  {
   "cell_type": "code",
   "execution_count": null,
   "id": "18af2742",
   "metadata": {},
   "outputs": [],
   "source": []
  }
 ],
 "metadata": {
  "kernelspec": {
   "display_name": "Python 3 (ipykernel)",
   "language": "python",
   "name": "python3"
  },
  "language_info": {
   "codemirror_mode": {
    "name": "ipython",
    "version": 3
   },
   "file_extension": ".py",
   "mimetype": "text/x-python",
   "name": "python",
   "nbconvert_exporter": "python",
   "pygments_lexer": "ipython3",
   "version": "3.9.11"
  }
 },
 "nbformat": 4,
 "nbformat_minor": 5
}
