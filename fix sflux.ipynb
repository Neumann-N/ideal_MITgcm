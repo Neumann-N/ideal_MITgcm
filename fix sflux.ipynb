{
 "cells": [
  {
   "cell_type": "code",
   "execution_count": null,
   "id": "4cc58f7e",
   "metadata": {},
   "outputs": [],
   "source": [
    "# The prescribed input of salinity was not allowing the model to reach equilibrium "
   ]
  },
  {
   "cell_type": "code",
   "execution_count": null,
   "id": "22098108",
   "metadata": {},
   "outputs": [],
   "source": [
    "import xmitgcm\n",
    "from xmitgcm import open_mdsdataset\n",
    "import numpy as np\n",
    "import matplotlib.pyplot as plt\n",
    "import matplotlib\n",
    "import xarray as xr\n",
    "from xgcm import Grid\n",
    "import numba"
   ]
  },
  {
   "cell_type": "code",
   "execution_count": null,
   "id": "4598fa0d",
   "metadata": {},
   "outputs": [],
   "source": [
    "# function to load in the data\n",
    "# data_dir is location of data\n",
    "# prefix is type of data to load in (dyn, layersDiags)\n",
    "def getoutput(data_dir,prefix):\n",
    "    deltaTClock = 21600.\n",
    "    grid_dir = './K50grid/'\n",
    "    data = open_mdsdataset(data_dir,grid_dir,delta_t=deltaTClock,prefix=prefix,geometry='sphericalpolar',default_dtype=np.dtype)\n",
    "    return data"
   ]
  },
  {
   "cell_type": "code",
   "execution_count": null,
   "id": "448675a2",
   "metadata": {},
   "outputs": [],
   "source": [
    "dyn50=getoutput('./K50/','dyn')"
   ]
  },
  {
   "cell_type": "code",
   "execution_count": null,
   "id": "d4f3e2f9",
   "metadata": {},
   "outputs": [],
   "source": [
    "numb=np.fromfile('./K50grid/sflux.bin',dtype='>f4')\n",
    "run=numb.reshape(128,64)\n",
    "ra=dyn50['rA'].values\n",
    "this=np.sum(run*ra*dyn50.hFacC[0].values)\n",
    "arr=(run[:,:]-(this/np.sum(ra[:,:]*dyn50.hFacC[0].values))).astype('>f4')\n",
    "arr.tofile('./K50/sflux2.bin')"
   ]
  },
  {
   "cell_type": "code",
   "execution_count": null,
   "id": "6fbc2276",
   "metadata": {},
   "outputs": [],
   "source": [
    "# Note that byteswap is not used as its not needed with this version of python\n",
    "# so dont do arr.byteswap().tofile('./K5000/sflux2.bin')"
   ]
  }
 ],
 "metadata": {
  "kernelspec": {
   "display_name": "Python 3 (ipykernel)",
   "language": "python",
   "name": "python3"
  },
  "language_info": {
   "codemirror_mode": {
    "name": "ipython",
    "version": 3
   },
   "file_extension": ".py",
   "mimetype": "text/x-python",
   "name": "python",
   "nbconvert_exporter": "python",
   "pygments_lexer": "ipython3",
   "version": "3.9.11"
  }
 },
 "nbformat": 4,
 "nbformat_minor": 5
}
